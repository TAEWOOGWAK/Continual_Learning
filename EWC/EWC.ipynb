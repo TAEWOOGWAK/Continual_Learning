{
  "nbformat": 4,
  "nbformat_minor": 0,
  "metadata": {
    "colab": {
      "provenance": [],
      "gpuType": "T4",
      "authorship_tag": "ABX9TyP5escDHFnw70xo+SSJMNcf",
      "include_colab_link": true
    },
    "kernelspec": {
      "name": "python3",
      "display_name": "Python 3"
    },
    "language_info": {
      "name": "python"
    }
  },
  "cells": [
    {
      "cell_type": "markdown",
      "metadata": {
        "id": "view-in-github",
        "colab_type": "text"
      },
      "source": [
        "<a href=\"https://colab.research.google.com/github/TAEWOOGWAK/Continual_Learning/blob/main/EWC/EWC.ipynb\" target=\"_parent\"><img src=\"https://colab.research.google.com/assets/colab-badge.svg\" alt=\"Open In Colab\"/></a>"
      ]
    },
    {
      "cell_type": "markdown",
      "source": [
        "#**Elastic weight consolidation**"
      ],
      "metadata": {
        "id": "Y7oc1yyxMsFJ"
      }
    },
    {
      "cell_type": "markdown",
      "source": [
        "##Setting"
      ],
      "metadata": {
        "id": "d4NdlVS2NgZA"
      }
    },
    {
      "cell_type": "code",
      "execution_count": 1,
      "metadata": {
        "colab": {
          "base_uri": "https://localhost:8080/"
        },
        "id": "e_Ae0olDMpua",
        "outputId": "20062c8c-f10a-4ada-c5c6-4263309e64d8"
      },
      "outputs": [
        {
          "output_type": "stream",
          "name": "stdout",
          "text": [
            "Collecting sns\n",
            "  Downloading sns-0.1.tar.gz (2.1 kB)\n",
            "  Preparing metadata (setup.py) ... \u001b[?25l\u001b[?25hdone\n",
            "Building wheels for collected packages: sns\n",
            "  Building wheel for sns (setup.py) ... \u001b[?25l\u001b[?25hdone\n",
            "  Created wheel for sns: filename=sns-0.1-py3-none-any.whl size=2638 sha256=7c420e77fd62bd9041e8429a45a7732a6851fe30461c52b908eee1967d90649f\n",
            "  Stored in directory: /root/.cache/pip/wheels/76/1a/47/c3b6a8b9d3ae47b1488f4be13c86586327c07e0ac1bb5b3337\n",
            "Successfully built sns\n",
            "Installing collected packages: sns\n",
            "Successfully installed sns-0.1\n"
          ]
        }
      ],
      "source": [
        "!pip install sns"
      ]
    },
    {
      "cell_type": "code",
      "source": [
        "import random\n",
        "import torch\n",
        "from torchvision import datasets\n",
        "from copy import deepcopy\n",
        "from torch import nn\n",
        "from torch.nn import functional as F\n",
        "from torch.autograd import Variable\n",
        "import torch.utils.data\n",
        "import matplotlib.pyplot as plt\n",
        "import seaborn as sns\n",
        "from torch import optim\n",
        "from tqdm import tqdm\n",
        "from PIL import Image"
      ],
      "metadata": {
        "id": "rfXWVa3kN1wW"
      },
      "execution_count": 2,
      "outputs": []
    },
    {
      "cell_type": "code",
      "source": [
        "epochs = 100\n",
        "lr = 1e-3\n",
        "batch_size = 128\n",
        "sample_size = 256\n",
        "hidden_size = 256\n",
        "num_task = 5"
      ],
      "metadata": {
        "id": "mttdNR5xYR9R"
      },
      "execution_count": 3,
      "outputs": []
    },
    {
      "cell_type": "code",
      "source": [
        "def variable(t: torch.Tensor, use_cuda=True, **kwargs):\n",
        "    if torch.cuda.is_available() and use_cuda:\n",
        "        t = t.cuda()\n",
        "    return Variable(t, **kwargs)"
      ],
      "metadata": {
        "id": "LzVDhHT_Nqdy"
      },
      "execution_count": 4,
      "outputs": []
    },
    {
      "cell_type": "code",
      "source": [
        "class MLP(nn.Module):\n",
        "    def __init__(self, hidden_size=400):\n",
        "        super(MLP, self).__init__()\n",
        "        self.fc1 = nn.Linear(28 * 28, hidden_size)\n",
        "        self.fc2 = nn.Linear(hidden_size, hidden_size)\n",
        "        self.fc3 = nn.Linear(hidden_size, hidden_size)\n",
        "        self.fc4 = nn.Linear(hidden_size, 10)\n",
        "\n",
        "    def forward(self, input):\n",
        "        x = F.relu(self.fc1(input))\n",
        "        x = F.relu(self.fc2(x))\n",
        "        x = F.relu(self.fc3(x))\n",
        "        x = F.relu(self.fc4(x))\n",
        "        return x"
      ],
      "metadata": {
        "id": "-mlsp66VYmLN"
      },
      "execution_count": 5,
      "outputs": []
    },
    {
      "cell_type": "markdown",
      "source": [
        "## Data load"
      ],
      "metadata": {
        "id": "nRRfzloMOiNL"
      }
    },
    {
      "cell_type": "code",
      "source": [
        "class PermutedMNIST(datasets.MNIST):\n",
        "\n",
        "    def __init__(self, root=\"~/.torch/data/mnist\", train=True, permute_idx=None):\n",
        "        super(PermutedMNIST, self).__init__(root, train, download=True)\n",
        "        assert len(permute_idx) == 28 * 28\n",
        "        if self.train:\n",
        "            self.data = torch.stack([img.float().view(-1)[permute_idx] / 255\n",
        "                                     for img in self.data])\n",
        "        else:\n",
        "            self.data = torch.stack([img.float().view(-1)[permute_idx] / 255\n",
        "                                     for img in self.data])\n",
        "\n",
        "    def __getitem__(self, index):\n",
        "        if self.train:\n",
        "            img, target = self.data[index], self.targets[index]\n",
        "        else:\n",
        "            img, target = self.data[index], self.targets[index]\n",
        "\n",
        "        return img, target\n",
        "\n",
        "    def get_sample(self, sample_size):\n",
        "        sample_idx = random.sample(range(len(self)), sample_size)\n",
        "        return [img for img in self.data[sample_idx]]\n",
        "\n",
        "\n",
        "\n",
        "\n",
        "def get_permute_mnist():\n",
        "    train_loader = {}\n",
        "    test_loader = {}\n",
        "    idx = list(range(28 * 28))\n",
        "    for i in range(num_task):\n",
        "        train_loader[i] = torch.utils.data.DataLoader(PermutedMNIST(train=True, permute_idx=idx),\n",
        "                                                      batch_size=batch_size,\n",
        "                                                      num_workers=2)\n",
        "        test_loader[i] = torch.utils.data.DataLoader(PermutedMNIST(train=False, permute_idx=idx),\n",
        "                                                     batch_size=batch_size)\n",
        "        random.shuffle(idx)\n",
        "    return train_loader, test_loader"
      ],
      "metadata": {
        "id": "CSognWhyOkco"
      },
      "execution_count": 6,
      "outputs": []
    },
    {
      "cell_type": "code",
      "source": [
        "train_loader, test_loader = get_permute_mnist()"
      ],
      "metadata": {
        "colab": {
          "base_uri": "https://localhost:8080/"
        },
        "id": "sCtpzCB5O52g",
        "outputId": "250549ab-c1db-4fd4-951d-ab97645c5c67"
      },
      "execution_count": 7,
      "outputs": [
        {
          "output_type": "stream",
          "name": "stdout",
          "text": [
            "Downloading http://yann.lecun.com/exdb/mnist/train-images-idx3-ubyte.gz\n",
            "Downloading http://yann.lecun.com/exdb/mnist/train-images-idx3-ubyte.gz to /root/.torch/data/mnist/PermutedMNIST/raw/train-images-idx3-ubyte.gz\n"
          ]
        },
        {
          "output_type": "stream",
          "name": "stderr",
          "text": [
            "100%|██████████| 9912422/9912422 [00:00<00:00, 104101155.41it/s]\n"
          ]
        },
        {
          "output_type": "stream",
          "name": "stdout",
          "text": [
            "Extracting /root/.torch/data/mnist/PermutedMNIST/raw/train-images-idx3-ubyte.gz to /root/.torch/data/mnist/PermutedMNIST/raw\n",
            "\n",
            "Downloading http://yann.lecun.com/exdb/mnist/train-labels-idx1-ubyte.gz\n",
            "Downloading http://yann.lecun.com/exdb/mnist/train-labels-idx1-ubyte.gz to /root/.torch/data/mnist/PermutedMNIST/raw/train-labels-idx1-ubyte.gz\n"
          ]
        },
        {
          "output_type": "stream",
          "name": "stderr",
          "text": [
            "100%|██████████| 28881/28881 [00:00<00:00, 52782437.40it/s]"
          ]
        },
        {
          "output_type": "stream",
          "name": "stdout",
          "text": [
            "Extracting /root/.torch/data/mnist/PermutedMNIST/raw/train-labels-idx1-ubyte.gz to /root/.torch/data/mnist/PermutedMNIST/raw\n",
            "\n",
            "Downloading http://yann.lecun.com/exdb/mnist/t10k-images-idx3-ubyte.gz\n",
            "Downloading http://yann.lecun.com/exdb/mnist/t10k-images-idx3-ubyte.gz to /root/.torch/data/mnist/PermutedMNIST/raw/t10k-images-idx3-ubyte.gz\n"
          ]
        },
        {
          "output_type": "stream",
          "name": "stderr",
          "text": [
            "\n",
            "100%|██████████| 1648877/1648877 [00:00<00:00, 26555867.25it/s]\n"
          ]
        },
        {
          "output_type": "stream",
          "name": "stdout",
          "text": [
            "Extracting /root/.torch/data/mnist/PermutedMNIST/raw/t10k-images-idx3-ubyte.gz to /root/.torch/data/mnist/PermutedMNIST/raw\n",
            "\n",
            "Downloading http://yann.lecun.com/exdb/mnist/t10k-labels-idx1-ubyte.gz\n",
            "Downloading http://yann.lecun.com/exdb/mnist/t10k-labels-idx1-ubyte.gz to /root/.torch/data/mnist/PermutedMNIST/raw/t10k-labels-idx1-ubyte.gz\n"
          ]
        },
        {
          "output_type": "stream",
          "name": "stderr",
          "text": [
            "100%|██████████| 4542/4542 [00:00<00:00, 4461482.15it/s]\n"
          ]
        },
        {
          "output_type": "stream",
          "name": "stdout",
          "text": [
            "Extracting /root/.torch/data/mnist/PermutedMNIST/raw/t10k-labels-idx1-ubyte.gz to /root/.torch/data/mnist/PermutedMNIST/raw\n",
            "\n"
          ]
        }
      ]
    },
    {
      "cell_type": "markdown",
      "source": [
        "### Data visualization"
      ],
      "metadata": {
        "id": "EgrLwy5TYT_B"
      }
    },
    {
      "cell_type": "code",
      "source": [
        "for i in range(5):\n",
        "  print('Task',i)\n",
        "  dataset_idx = i\n",
        "  sample_images = train_loader[dataset_idx].dataset.get_sample(sample_size)\n",
        "  image = Image.fromarray((sample_images[0].view(28, 28) * 255).byte().numpy(), mode='L')\n",
        "  image.show()\n",
        "  print('')"
      ],
      "metadata": {
        "colab": {
          "base_uri": "https://localhost:8080/",
          "height": 336
        },
        "id": "_5JH1QxqRLd3",
        "outputId": "056f8f70-c93e-4b1f-96fe-58b70dfcb889"
      },
      "execution_count": 8,
      "outputs": [
        {
          "output_type": "stream",
          "name": "stdout",
          "text": [
            "Task 0\n"
          ]
        },
        {
          "output_type": "display_data",
          "data": {
            "text/plain": [
              "<PIL.Image.Image image mode=L size=28x28 at 0x7F08E9E87DC0>"
            ],
            "image/png": "[encoded data removed]"
          },
          "metadata": {}
        },
        {
          "output_type": "stream",
          "name": "stdout",
          "text": [
            "\n",
            "Task 1\n"
          ]
        },
        {
          "output_type": "display_data",
          "data": {
            "text/plain": [
              "<PIL.Image.Image image mode=L size=28x28 at 0x7F08E9E91D20>"
            ],
            "image/png": "[encoded data removed]"
          },
          "metadata": {}
        },
        {
          "output_type": "stream",
          "name": "stdout",
          "text": [
            "\n",
            "Task 2\n"
          ]
        },
        {
          "output_type": "display_data",
          "data": {
            "text/plain": [
              "<PIL.Image.Image image mode=L size=28x28 at 0x7F08E9E91C00>"
            ],
            "image/png": "[encoded data removed]"
          },
          "metadata": {}
        },
        {
          "output_type": "stream",
          "name": "stdout",
          "text": [
            "\n",
            "Task 3\n"
          ]
        },
        {
          "output_type": "display_data",
          "data": {
            "text/plain": [
              "<PIL.Image.Image image mode=L size=28x28 at 0x7F09BDA06440>"
            ],
            "image/png": "[encoded data removed]"
          },
          "metadata": {}
        },
        {
          "output_type": "stream",
          "name": "stdout",
          "text": [
            "\n",
            "Task 4\n"
          ]
        },
        {
          "output_type": "display_data",
          "data": {
            "text/plain": [
              "<PIL.Image.Image image mode=L size=28x28 at 0x7F08E9E91BD0>"
            ],
            "image/png": "[encoded data removed]"
          },
          "metadata": {}
        },
        {
          "output_type": "stream",
          "name": "stdout",
          "text": [
            "\n"
          ]
        }
      ]
    },
    {
      "cell_type": "markdown",
      "source": [
        "## Experiment"
      ],
      "metadata": {
        "id": "C0evTCjcYsz6"
      }
    },
    {
      "cell_type": "markdown",
      "source": [
        "###Basic model(regularization X)"
      ],
      "metadata": {
        "id": "9oJ5ukzpge5P"
      }
    },
    {
      "cell_type": "code",
      "source": [
        "def normal_train(model: nn.Module, optimizer: torch.optim, data_loader: torch.utils.data.DataLoader):\n",
        "    model.train()\n",
        "    epoch_loss = 0\n",
        "    for input, target in data_loader:\n",
        "        input, target = variable(input), variable(target)\n",
        "        optimizer.zero_grad()\n",
        "        output = model(input)\n",
        "        loss = F.cross_entropy(output, target)\n",
        "        epoch_loss += loss.data\n",
        "        loss.backward()\n",
        "        optimizer.step()\n",
        "    return epoch_loss / len(data_loader)\n",
        "\n",
        "\n",
        "def test(model: nn.Module, data_loader: torch.utils.data.DataLoader):\n",
        "    model.eval()\n",
        "    correct = 0\n",
        "    for input, target in data_loader:\n",
        "        input, target = variable(input), variable(target)\n",
        "        output = model(input)\n",
        "        correct += (F.softmax(output, dim=1).max(dim=1)[1] == target).data.sum()\n",
        "    return correct / len(data_loader.dataset)\n",
        "\n",
        "\n",
        "def standard_process(epochs, use_cuda=True, weight=True):\n",
        "    model = MLP(hidden_size)\n",
        "    if torch.cuda.is_available() and use_cuda:\n",
        "        model.cuda()\n",
        "    optimizer = optim.SGD(params=model.parameters(), lr=lr)\n",
        "\n",
        "    loss, acc = {}, {}\n",
        "    for task in range(num_task):\n",
        "        loss[task] = []\n",
        "        acc[task] = []\n",
        "        for _ in tqdm(range(epochs)):\n",
        "            loss[task].append(normal_train(model, optimizer, train_loader[task]))\n",
        "            for sub_task in range(task + 1):\n",
        "                acc[sub_task].append(test(model, test_loader[sub_task]))\n",
        "\n",
        "        if task == 0 and weight:\n",
        "            weight = model.state_dict()\n",
        "\n",
        "    return loss, acc, weight"
      ],
      "metadata": {
        "id": "CpkbcAM5ZV-F"
      },
      "execution_count": 9,
      "outputs": []
    },
    {
      "cell_type": "code",
      "source": [
        "loss, acc, weight = standard_process(epochs)"
      ],
      "metadata": {
        "colab": {
          "base_uri": "https://localhost:8080/"
        },
        "id": "r9SBhFVxZx1O",
        "outputId": "1b254f85-b14a-4c74-c077-4b532557e0e9"
      },
      "execution_count": 10,
      "outputs": [
        {
          "output_type": "stream",
          "name": "stderr",
          "text": [
            "100%|██████████| 100/100 [08:41<00:00,  5.21s/it]\n",
            "100%|██████████| 100/100 [09:17<00:00,  5.57s/it]\n",
            "100%|██████████| 100/100 [09:54<00:00,  5.95s/it]\n",
            "100%|██████████| 100/100 [10:22<00:00,  6.22s/it]\n",
            "100%|██████████| 100/100 [10:56<00:00,  6.57s/it]\n"
          ]
        }
      ]
    },
    {
      "cell_type": "markdown",
      "source": [
        "###EWC"
      ],
      "metadata": {
        "id": "LHpJWchWavJ4"
      }
    },
    {
      "cell_type": "code",
      "source": [
        "class EWC(object):\n",
        "    def __init__(self, model: nn.Module, dataset: list):\n",
        "\n",
        "        self.model = model\n",
        "        self.dataset = dataset\n",
        "\n",
        "        self.params = {n: p for n, p in self.model.named_parameters() if p.requires_grad}\n",
        "        self._means = {}\n",
        "        self._precision_matrices = self._diag_fisher()\n",
        "\n",
        "        for n, p in deepcopy(self.params).items():\n",
        "            self._means[n] = variable(p.data)\n",
        "\n",
        "    def _diag_fisher(self):\n",
        "        precision_matrices = {}\n",
        "        for n, p in deepcopy(self.params).items():\n",
        "            p.data.zero_()\n",
        "            precision_matrices[n] = variable(p.data)\n",
        "\n",
        "        self.model.eval()\n",
        "        for input in self.dataset:\n",
        "            self.model.zero_grad()\n",
        "            input = variable(input)\n",
        "            output = self.model(input).view(1, -1)\n",
        "            label = output.max(1)[1].view(-1)\n",
        "            loss = F.nll_loss(F.log_softmax(output, dim=1), label)\n",
        "            loss.backward()\n",
        "\n",
        "            for n, p in self.model.named_parameters():\n",
        "                precision_matrices[n].data += p.grad.data ** 2 / len(self.dataset)\n",
        "\n",
        "        precision_matrices = {n: p for n, p in precision_matrices.items()}\n",
        "        return precision_matrices\n",
        "\n",
        "    def penalty(self, model: nn.Module):\n",
        "        loss = 0\n",
        "        for n, p in model.named_parameters():\n",
        "            _loss = self._precision_matrices[n] * (p - self._means[n]) ** 2\n",
        "            loss += _loss.sum()\n",
        "        return loss\n",
        "\n",
        "\n",
        "\n",
        "def ewc_train(model: nn.Module, optimizer: torch.optim, data_loader: torch.utils.data.DataLoader,\n",
        "              ewc: EWC, importance: float):\n",
        "    model.train()\n",
        "    epoch_loss = 0\n",
        "    for input, target in data_loader:\n",
        "        input, target = variable(input), variable(target)\n",
        "        optimizer.zero_grad()\n",
        "        output = model(input)\n",
        "        loss = F.cross_entropy(output, target) + importance * ewc.penalty(model)\n",
        "        epoch_loss += loss.data\n",
        "        loss.backward()\n",
        "        optimizer.step()\n",
        "    return epoch_loss / len(data_loader)\n",
        "\n",
        "\n",
        "def test(model: nn.Module, data_loader: torch.utils.data.DataLoader):\n",
        "    model.eval()\n",
        "    correct = 0\n",
        "    for input, target in data_loader:\n",
        "        input, target = variable(input), variable(target)\n",
        "        output = model(input)\n",
        "        correct += (F.softmax(output, dim=1).max(dim=1)[1] == target).data.sum()\n",
        "    return correct / len(data_loader.dataset)\n",
        "\n",
        "\n",
        "def ewc_process(epochs, importance, use_cuda=True, weight=None):\n",
        "    model = MLP(hidden_size)\n",
        "    if torch.cuda.is_available() and use_cuda:\n",
        "        model.cuda()\n",
        "    optimizer = optim.SGD(params=model.parameters(), lr=lr)\n",
        "\n",
        "    loss, acc, ewc = {}, {}, {}\n",
        "    for task in range(num_task):\n",
        "        loss[task] = []\n",
        "        acc[task] = []\n",
        "\n",
        "        if task == 0:\n",
        "            if weight:\n",
        "                model.load_state_dict(weight)\n",
        "            else:\n",
        "                for _ in tqdm(range(epochs)):\n",
        "                    loss[task].append(normal_train(model, optimizer, train_loader[task]))\n",
        "                    acc[task].append(test(model, test_loader[task]))\n",
        "        else:\n",
        "            old_tasks = []\n",
        "            for sub_task in range(task):\n",
        "                old_tasks = old_tasks + train_loader[sub_task].dataset.get_sample(sample_size)\n",
        "            old_tasks = random.sample(old_tasks, k=sample_size)\n",
        "            for _ in tqdm(range(epochs)):\n",
        "                loss[task].append(ewc_train(model, optimizer, train_loader[task], EWC(model, old_tasks), importance))\n",
        "                for sub_task in range(task + 1):\n",
        "                    acc[sub_task].append(test(model, test_loader[sub_task]))\n",
        "\n",
        "    return loss, acc"
      ],
      "metadata": {
        "id": "o55kUo_Ea1VB"
      },
      "execution_count": 11,
      "outputs": []
    },
    {
      "cell_type": "code",
      "source": [
        "loss_ewc, acc_ewc = ewc_process(epochs, importance=1000,\n",
        "#                                 weight=weight\n",
        "                               )"
      ],
      "metadata": {
        "colab": {
          "base_uri": "https://localhost:8080/"
        },
        "id": "Q0wqoe9Ga-FQ",
        "outputId": "61e206b6-13fe-4776-9d33-ccfe850f5fa5"
      },
      "execution_count": 12,
      "outputs": [
        {
          "output_type": "stream",
          "name": "stderr",
          "text": [
            "100%|██████████| 100/100 [08:58<00:00,  5.39s/it]\n",
            "100%|██████████| 100/100 [13:15<00:00,  7.95s/it]\n",
            "100%|██████████| 100/100 [13:54<00:00,  8.35s/it]\n",
            "100%|██████████| 100/100 [14:26<00:00,  8.66s/it]\n",
            "100%|██████████| 100/100 [14:59<00:00,  8.99s/it]\n"
          ]
        }
      ]
    },
    {
      "cell_type": "markdown",
      "source": [
        "### Result"
      ],
      "metadata": {
        "id": "EpeWvIX6gaBA"
      }
    },
    {
      "cell_type": "code",
      "source": [
        "def accuracy_plot(x):\n",
        "    for t, v in x.items():\n",
        "        plt.plot(list(range(t * epochs, num_task * epochs)), v)\n",
        "    plt.ylim(0, 1)"
      ],
      "metadata": {
        "id": "w4U1krP3kzuh"
      },
      "execution_count": 13,
      "outputs": []
    },
    {
      "cell_type": "code",
      "source": [
        "accuracy_plot(acc)"
      ],
      "metadata": {
        "colab": {
          "base_uri": "https://localhost:8080/",
          "height": 435
        },
        "id": "uUeb3626lawi",
        "outputId": "6a120e3a-bf9e-4adf-867e-276167097d59"
      },
      "execution_count": 16,
      "outputs": [
        {
          "output_type": "display_data",
          "data": {
            "text/plain": [
              "<Figure size 640x480 with 1 Axes>"
            ],
            "image/png": "[encoded data removed]"
          },
          "metadata": {}
        }
      ]
    },
    {
      "cell_type": "code",
      "source": [
        "accuracy_plot(acc_ewc)"
      ],
      "metadata": {
        "colab": {
          "base_uri": "https://localhost:8080/",
          "height": 435
        },
        "id": "QZV20Fjvjl5Z",
        "outputId": "ee101b02-6ae8-4613-f32f-ef0b3ef95fe6"
      },
      "execution_count": 17,
      "outputs": [
        {
          "output_type": "display_data",
          "data": {
            "text/plain": [
              "<Figure size 640x480 with 1 Axes>"
            ],
            "image/png": "[encoded data removed]"
          },
          "metadata": {}
        }
      ]
    },
    {
      "cell_type": "code",
      "source": [
        "plt.plot(acc[0], label=\"sgd\")\n",
        "plt.plot(acc_ewc[0], label=\"ewc\")\n",
        "plt.legend()"
      ],
      "metadata": {
        "colab": {
          "base_uri": "https://localhost:8080/",
          "height": 448
        },
        "id": "9X1hAf6HlT8S",
        "outputId": "74cafe55-e93c-4ae5-ac37-841ebd814986"
      },
      "execution_count": 18,
      "outputs": [
        {
          "output_type": "execute_result",
          "data": {
            "text/plain": [
              "<matplotlib.legend.Legend at 0x7f08e8f17550>"
            ]
          },
          "metadata": {},
          "execution_count": 18
        },
        {
          "output_type": "display_data",
          "data": {
            "text/plain": [
              "<Figure size 640x480 with 1 Axes>"
            ],
            "image/png": "[encoded data removed]"
          },
          "metadata": {}
        }
      ]
    }
  ]
}